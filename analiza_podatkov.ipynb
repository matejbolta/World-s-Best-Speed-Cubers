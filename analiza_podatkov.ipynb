{
 "cells": [
  {
   "cell_type": "markdown",
   "metadata": {},
   "source": [
    "# Najboljši reševalci Rubikove kocke na svetu\n",
    "\n",
    "##### Projektna naloga pri predmetu Programiranje 1.\n",
    "\n",
    "V zvezku bodo analizirani podatki s spletne strani [Svetovne kockarske zveze](https://www.worldcubeassociation.org/).\n",
    "\n",
    "#### Splošno o WCA in kockanju\n",
    "Pod okriljem Svetovne kockarske zveze se že skoraj 20 let po vsem svetu prirejajo tekmovanja v raznih disciplinah, povezanih s kultno Rubikovo kocko. Skozi čas se je oblikovalo 17 disciplin (po predlanski odstranitvi 3x3x3 With Feet z uradnega seznama), v tej nalogi pa si bomo pobliže ogledali le dve, klasično 3x3x3 Cube in Multiple Blindfolded (več 3x3x3 kock na slepo). Opis formata tekmovalnega dela je predstavljen malo nižje ob konkretnih primerih.\n",
    "\n",
    "#### Cilj projektne naloge je odgovoriti na zastavljena vprašanja o pridobljenih podatkih:\n",
    "* Kako \"izkušenost tekmovalca\" (tj. število preteklih tekmovanj) vpliva na njegovo uvrstitev? Ali so izkušenejši tekmovalci vedno boljši?\n",
    "* Kako se rezultati spreminjajo, ko se sprehajamo od boljših proti slabšim tekmovalcem? Ali stroga elita močno odstopa od ostalih?\n",
    "* Kdaj so bili doseženi najboljši rezultati? Ali so tisti izpred nekaj let še aktualni? Kako tukaj vidimo razliko med disciplinami?\n",
    "* Kakšna je razporeditev najboljših tekmovalcev po spolu? Ali so ženske enakovredne moškim?\n",
    "* Kako velikost tekmovanja vpliva na rezultate? Ali lokalno tekmovanje pomeni manjši pritisk za tekmovalce?\n",
    "* Katere države dosegajo največ najboljših rezultatov? Obstajajo velesile? Kje se nahajamo Slovenci?\n",
    "* Ali obstaja povezava med dobrimi tekmovalci v Multiple Blindfolded in njihovim 3x3x3 povprečjem?"
   ]
  },
  {
   "cell_type": "markdown",
   "metadata": {},
   "source": [
    "### Uvoz podatkov\n",
    "Najprej bomo uvozili potrebne knjižnice za delo ter pripravljene podatke.\n",
    "Podatki so bili pridobljeni 28. oziroma 31. oktobra 2020."
   ]
  },
  {
   "cell_type": "code",
   "execution_count": 1,
   "metadata": {},
   "outputs": [],
   "source": [
    "import matplotlib.pyplot # Za izris dveh vzporednih grafov v enem oknu\n",
    "import pandas as pd\n",
    "import os.path\n",
    "\n",
    "# Preglednejši prikaz tabel in stolpcev\n",
    "pd.options.display.max_rows = 13 # 6+1+6\n",
    "\n",
    "# Preglednejši prikaz grafov\n",
    "%matplotlib inline\n",
    "\n",
    "# Nalaganje razpredelnic\n",
    "trojka = pd.read_csv(os.path.join('data', '333.csv'), index_col='wca_id')\n",
    "multi = pd.read_csv(os.path.join('data', 'multi.csv'), index_col='wca_id')"
   ]
  },
  {
   "cell_type": "markdown",
   "metadata": {},
   "source": [
    "#### Poglejmo si prvo tabelo s podatki iz discipline Kocka 3x3x3 (pogovorno \"trojka\")."
   ]
  },
  {
   "cell_type": "code",
   "execution_count": 2,
   "metadata": {},
   "outputs": [
    {
     "data": {
      "text/html": [
       "<div>\n",
       "<style scoped>\n",
       "    .dataframe tbody tr th:only-of-type {\n",
       "        vertical-align: middle;\n",
       "    }\n",
       "\n",
       "    .dataframe tbody tr th {\n",
       "        vertical-align: top;\n",
       "    }\n",
       "\n",
       "    .dataframe thead th {\n",
       "        text-align: right;\n",
       "    }\n",
       "</style>\n",
       "<table border=\"1\" class=\"dataframe\">\n",
       "  <thead>\n",
       "    <tr style=\"text-align: right;\">\n",
       "      <th></th>\n",
       "      <th>rank</th>\n",
       "      <th>name</th>\n",
       "      <th>result</th>\n",
       "      <th>citizen_of</th>\n",
       "      <th>competition</th>\n",
       "      <th>year</th>\n",
       "      <th>gender</th>\n",
       "      <th>attended_competitions</th>\n",
       "      <th>competition_size</th>\n",
       "    </tr>\n",
       "    <tr>\n",
       "      <th>wca_id</th>\n",
       "      <th></th>\n",
       "      <th></th>\n",
       "      <th></th>\n",
       "      <th></th>\n",
       "      <th></th>\n",
       "      <th></th>\n",
       "      <th></th>\n",
       "      <th></th>\n",
       "      <th></th>\n",
       "    </tr>\n",
       "  </thead>\n",
       "  <tbody>\n",
       "    <tr>\n",
       "      <th>2009ZEMD01</th>\n",
       "      <td>1</td>\n",
       "      <td>Feliks Zemdegs</td>\n",
       "      <td>5.53</td>\n",
       "      <td>Australia</td>\n",
       "      <td>Odd Day in Sydney 2019</td>\n",
       "      <td>2019</td>\n",
       "      <td>Male</td>\n",
       "      <td>112</td>\n",
       "      <td>142</td>\n",
       "    </tr>\n",
       "    <tr>\n",
       "      <th>2012PARK03</th>\n",
       "      <td>2</td>\n",
       "      <td>Max Park</td>\n",
       "      <td>5.59</td>\n",
       "      <td>United States</td>\n",
       "      <td>Houston Winter 2020</td>\n",
       "      <td>2020</td>\n",
       "      <td>Male</td>\n",
       "      <td>101</td>\n",
       "      <td>175</td>\n",
       "    </tr>\n",
       "    <tr>\n",
       "      <th>2017VILL41</th>\n",
       "      <td>3</td>\n",
       "      <td>Sean Patrick Villanueva</td>\n",
       "      <td>5.98</td>\n",
       "      <td>Philippines</td>\n",
       "      <td>Marikina City Open II 2019</td>\n",
       "      <td>2019</td>\n",
       "      <td>Male</td>\n",
       "      <td>25</td>\n",
       "      <td>80</td>\n",
       "    </tr>\n",
       "    <tr>\n",
       "      <th>2010WEYE01</th>\n",
       "      <td>4</td>\n",
       "      <td>Philipp Weyer</td>\n",
       "      <td>6.06</td>\n",
       "      <td>Germany</td>\n",
       "      <td>Swisscubing Cup Final 2018</td>\n",
       "      <td>2018</td>\n",
       "      <td>Male</td>\n",
       "      <td>110</td>\n",
       "      <td>103</td>\n",
       "    </tr>\n",
       "    <tr>\n",
       "      <th>2016KOLA02</th>\n",
       "      <td>5</td>\n",
       "      <td>Tymon Kolasiński</td>\n",
       "      <td>6.12</td>\n",
       "      <td>Poland</td>\n",
       "      <td>PST CFL Częstochowa 2019</td>\n",
       "      <td>2019</td>\n",
       "      <td>Male</td>\n",
       "      <td>77</td>\n",
       "      <td>83</td>\n",
       "    </tr>\n",
       "    <tr>\n",
       "      <th>...</th>\n",
       "      <td>...</td>\n",
       "      <td>...</td>\n",
       "      <td>...</td>\n",
       "      <td>...</td>\n",
       "      <td>...</td>\n",
       "      <td>...</td>\n",
       "      <td>...</td>\n",
       "      <td>...</td>\n",
       "      <td>...</td>\n",
       "    </tr>\n",
       "    <tr>\n",
       "      <th>2015KLIN03</th>\n",
       "      <td>9976</td>\n",
       "      <td>Lucas Gillberg Kling</td>\n",
       "      <td>13.12</td>\n",
       "      <td>Sweden</td>\n",
       "      <td>Swedish Championship 2015</td>\n",
       "      <td>2015</td>\n",
       "      <td>Male</td>\n",
       "      <td>2</td>\n",
       "      <td>98</td>\n",
       "    </tr>\n",
       "    <tr>\n",
       "      <th>2009SROC01</th>\n",
       "      <td>9976</td>\n",
       "      <td>Marcin Sroczyński</td>\n",
       "      <td>13.12</td>\n",
       "      <td>Poland</td>\n",
       "      <td>Polish Nationals 2010</td>\n",
       "      <td>2010</td>\n",
       "      <td>Male</td>\n",
       "      <td>6</td>\n",
       "      <td>62</td>\n",
       "    </tr>\n",
       "    <tr>\n",
       "      <th>2015TYTS01</th>\n",
       "      <td>9976</td>\n",
       "      <td>Nazar Tytskyi (Назар Тицький)</td>\n",
       "      <td>13.12</td>\n",
       "      <td>Ukraine</td>\n",
       "      <td>Uzhgorod Summer 2018</td>\n",
       "      <td>2018</td>\n",
       "      <td>Male</td>\n",
       "      <td>7</td>\n",
       "      <td>43</td>\n",
       "    </tr>\n",
       "    <tr>\n",
       "      <th>2018LONG11</th>\n",
       "      <td>9976</td>\n",
       "      <td>Trần Quang Long</td>\n",
       "      <td>13.12</td>\n",
       "      <td>Vietnam</td>\n",
       "      <td>Ha Noi Open 2018</td>\n",
       "      <td>2018</td>\n",
       "      <td>Male</td>\n",
       "      <td>2</td>\n",
       "      <td>165</td>\n",
       "    </tr>\n",
       "    <tr>\n",
       "      <th>2014NAUM02</th>\n",
       "      <td>9976</td>\n",
       "      <td>Vladislav Naumenko</td>\n",
       "      <td>13.12</td>\n",
       "      <td>Belarus</td>\n",
       "      <td>Minsk Winter 2015</td>\n",
       "      <td>2015</td>\n",
       "      <td>Male</td>\n",
       "      <td>5</td>\n",
       "      <td>60</td>\n",
       "    </tr>\n",
       "  </tbody>\n",
       "</table>\n",
       "<p>10000 rows × 9 columns</p>\n",
       "</div>"
      ],
      "text/plain": [
       "            rank                           name  result     citizen_of  \\\n",
       "wca_id                                                                   \n",
       "2009ZEMD01     1                 Feliks Zemdegs    5.53      Australia   \n",
       "2012PARK03     2                       Max Park    5.59  United States   \n",
       "2017VILL41     3        Sean Patrick Villanueva    5.98    Philippines   \n",
       "2010WEYE01     4                  Philipp Weyer    6.06        Germany   \n",
       "2016KOLA02     5               Tymon Kolasiński    6.12         Poland   \n",
       "...          ...                            ...     ...            ...   \n",
       "2015KLIN03  9976           Lucas Gillberg Kling   13.12         Sweden   \n",
       "2009SROC01  9976              Marcin Sroczyński   13.12         Poland   \n",
       "2015TYTS01  9976  Nazar Tytskyi (Назар Тицький)   13.12        Ukraine   \n",
       "2018LONG11  9976                Trần Quang Long   13.12        Vietnam   \n",
       "2014NAUM02  9976             Vladislav Naumenko   13.12        Belarus   \n",
       "\n",
       "                           competition  year gender  attended_competitions  \\\n",
       "wca_id                                                                       \n",
       "2009ZEMD01      Odd Day in Sydney 2019  2019   Male                    112   \n",
       "2012PARK03         Houston Winter 2020  2020   Male                    101   \n",
       "2017VILL41  Marikina City Open II 2019  2019   Male                     25   \n",
       "2010WEYE01  Swisscubing Cup Final 2018  2018   Male                    110   \n",
       "2016KOLA02    PST CFL Częstochowa 2019  2019   Male                     77   \n",
       "...                                ...   ...    ...                    ...   \n",
       "2015KLIN03   Swedish Championship 2015  2015   Male                      2   \n",
       "2009SROC01       Polish Nationals 2010  2010   Male                      6   \n",
       "2015TYTS01        Uzhgorod Summer 2018  2018   Male                      7   \n",
       "2018LONG11            Ha Noi Open 2018  2018   Male                      2   \n",
       "2014NAUM02           Minsk Winter 2015  2015   Male                      5   \n",
       "\n",
       "            competition_size  \n",
       "wca_id                        \n",
       "2009ZEMD01               142  \n",
       "2012PARK03               175  \n",
       "2017VILL41                80  \n",
       "2010WEYE01               103  \n",
       "2016KOLA02                83  \n",
       "...                      ...  \n",
       "2015KLIN03                98  \n",
       "2009SROC01                62  \n",
       "2015TYTS01                43  \n",
       "2018LONG11               165  \n",
       "2014NAUM02                60  \n",
       "\n",
       "[10000 rows x 9 columns]"
      ]
     },
     "execution_count": 2,
     "metadata": {},
     "output_type": "execute_result"
    }
   ],
   "source": [
    "trojka"
   ]
  },
  {
   "cell_type": "markdown",
   "metadata": {},
   "source": [
    "#### Pobliže si oglejmo posamezno vrstico v tabeli.\n",
    "Pomen večine podatkov je razviden iz tabele.\n",
    "`wca_id` je identifikacijska koda tekmovalca.\n",
    "`result` se pridobi na sledeč način: tekmovalec petkrat reši kocko, pridobi pet časov, pri tem se najboljši in najslabši rezultat izbrišeta, iz vmesnih treh pa se izračuna povprečje (mediana) ki šteje kot rezultat (v sekundah). `rank` je razvrstitev po rezultatu `result`. `citizen_of`, `gender`, `attended_competitions` so podatki o tekmovalcu, `competition`, `year`, `competition_size` pa podatki o doseženem rezultatu."
   ]
  },
  {
   "cell_type": "code",
   "execution_count": 3,
   "metadata": {},
   "outputs": [
    {
     "data": {
      "text/html": [
       "<div>\n",
       "<style scoped>\n",
       "    .dataframe tbody tr th:only-of-type {\n",
       "        vertical-align: middle;\n",
       "    }\n",
       "\n",
       "    .dataframe tbody tr th {\n",
       "        vertical-align: top;\n",
       "    }\n",
       "\n",
       "    .dataframe thead th {\n",
       "        text-align: right;\n",
       "    }\n",
       "</style>\n",
       "<table border=\"1\" class=\"dataframe\">\n",
       "  <thead>\n",
       "    <tr style=\"text-align: right;\">\n",
       "      <th></th>\n",
       "      <th>rank</th>\n",
       "      <th>name</th>\n",
       "      <th>result</th>\n",
       "      <th>citizen_of</th>\n",
       "      <th>competition</th>\n",
       "      <th>year</th>\n",
       "      <th>gender</th>\n",
       "      <th>attended_competitions</th>\n",
       "      <th>competition_size</th>\n",
       "    </tr>\n",
       "    <tr>\n",
       "      <th>wca_id</th>\n",
       "      <th></th>\n",
       "      <th></th>\n",
       "      <th></th>\n",
       "      <th></th>\n",
       "      <th></th>\n",
       "      <th></th>\n",
       "      <th></th>\n",
       "      <th></th>\n",
       "      <th></th>\n",
       "    </tr>\n",
       "  </thead>\n",
       "  <tbody>\n",
       "    <tr>\n",
       "      <th>2015BOLT01</th>\n",
       "      <td>5440</td>\n",
       "      <td>Matej Bolta</td>\n",
       "      <td>11.69</td>\n",
       "      <td>Slovenia</td>\n",
       "      <td>Slovenian Nationals 2019</td>\n",
       "      <td>2019</td>\n",
       "      <td>Male</td>\n",
       "      <td>19</td>\n",
       "      <td>52</td>\n",
       "    </tr>\n",
       "  </tbody>\n",
       "</table>\n",
       "</div>"
      ],
      "text/plain": [
       "            rank         name  result citizen_of               competition  \\\n",
       "wca_id                                                                       \n",
       "2015BOLT01  5440  Matej Bolta   11.69   Slovenia  Slovenian Nationals 2019   \n",
       "\n",
       "            year gender  attended_competitions  competition_size  \n",
       "wca_id                                                            \n",
       "2015BOLT01  2019   Male                     19                52  "
      ]
     },
     "execution_count": 3,
     "metadata": {},
     "output_type": "execute_result"
    }
   ],
   "source": [
    "trojka[trojka.name == 'Matej Bolta']"
   ]
  },
  {
   "cell_type": "markdown",
   "metadata": {},
   "source": [
    "##### Poglejmo si še drugo tabelo s podatki iz discipline Več kock 3x3x3 na slepo (pogovorno \"multi\")."
   ]
  },
  {
   "cell_type": "code",
   "execution_count": 4,
   "metadata": {
    "scrolled": true
   },
   "outputs": [
    {
     "data": {
      "text/html": [
       "<div>\n",
       "<style scoped>\n",
       "    .dataframe tbody tr th:only-of-type {\n",
       "        vertical-align: middle;\n",
       "    }\n",
       "\n",
       "    .dataframe tbody tr th {\n",
       "        vertical-align: top;\n",
       "    }\n",
       "\n",
       "    .dataframe thead th {\n",
       "        text-align: right;\n",
       "    }\n",
       "</style>\n",
       "<table border=\"1\" class=\"dataframe\">\n",
       "  <thead>\n",
       "    <tr style=\"text-align: right;\">\n",
       "      <th></th>\n",
       "      <th>rank</th>\n",
       "      <th>name</th>\n",
       "      <th>result</th>\n",
       "      <th>citizen_of</th>\n",
       "      <th>competition</th>\n",
       "      <th>year</th>\n",
       "      <th>result_points</th>\n",
       "      <th>result_time</th>\n",
       "      <th>gender</th>\n",
       "      <th>attended_competitions</th>\n",
       "      <th>333_average</th>\n",
       "      <th>333_world_rank</th>\n",
       "      <th>competition_size</th>\n",
       "    </tr>\n",
       "    <tr>\n",
       "      <th>wca_id</th>\n",
       "      <th></th>\n",
       "      <th></th>\n",
       "      <th></th>\n",
       "      <th></th>\n",
       "      <th></th>\n",
       "      <th></th>\n",
       "      <th></th>\n",
       "      <th></th>\n",
       "      <th></th>\n",
       "      <th></th>\n",
       "      <th></th>\n",
       "      <th></th>\n",
       "      <th></th>\n",
       "    </tr>\n",
       "  </thead>\n",
       "  <tbody>\n",
       "    <tr>\n",
       "      <th>2016SIGG01</th>\n",
       "      <td>1</td>\n",
       "      <td>Graham Siggins</td>\n",
       "      <td>59/60</td>\n",
       "      <td>United States</td>\n",
       "      <td>OSU Blind Weekend 2019</td>\n",
       "      <td>2019</td>\n",
       "      <td>58</td>\n",
       "      <td>59:46</td>\n",
       "      <td>Male</td>\n",
       "      <td>53</td>\n",
       "      <td>10.99</td>\n",
       "      <td>3786.0</td>\n",
       "      <td>16</td>\n",
       "    </tr>\n",
       "    <tr>\n",
       "      <th>2011BANS02</th>\n",
       "      <td>2</td>\n",
       "      <td>Shivam Bansal</td>\n",
       "      <td>48/48</td>\n",
       "      <td>India</td>\n",
       "      <td>Delhi Monsoon Open 2018</td>\n",
       "      <td>2018</td>\n",
       "      <td>48</td>\n",
       "      <td>59:48</td>\n",
       "      <td>Male</td>\n",
       "      <td>73</td>\n",
       "      <td>9.29</td>\n",
       "      <td>1107.0</td>\n",
       "      <td>35</td>\n",
       "    </tr>\n",
       "    <tr>\n",
       "      <th>2015CHEN49</th>\n",
       "      <td>3</td>\n",
       "      <td>Yucheng Chen (陈裕铖)</td>\n",
       "      <td>47/49</td>\n",
       "      <td>China</td>\n",
       "      <td>Shenzhen 3x3 Days 2019</td>\n",
       "      <td>2019</td>\n",
       "      <td>45</td>\n",
       "      <td>58:05</td>\n",
       "      <td>Male</td>\n",
       "      <td>64</td>\n",
       "      <td>20.02</td>\n",
       "      <td>37918.0</td>\n",
       "      <td>140</td>\n",
       "    </tr>\n",
       "    <tr>\n",
       "      <th>2014BOYA01</th>\n",
       "      <td>4</td>\n",
       "      <td>Mark Boyanowski</td>\n",
       "      <td>47/50</td>\n",
       "      <td>United States</td>\n",
       "      <td>WCA World Championship 2019</td>\n",
       "      <td>2019</td>\n",
       "      <td>44</td>\n",
       "      <td>54:18</td>\n",
       "      <td>Male</td>\n",
       "      <td>93</td>\n",
       "      <td>10.74</td>\n",
       "      <td>3222.0</td>\n",
       "      <td>833</td>\n",
       "    </tr>\n",
       "    <tr>\n",
       "      <th>2011KOWA01</th>\n",
       "      <td>5</td>\n",
       "      <td>Marcin Kowalczyk</td>\n",
       "      <td>41/41</td>\n",
       "      <td>Poland</td>\n",
       "      <td>SLS Swierklany 2013</td>\n",
       "      <td>2013</td>\n",
       "      <td>41</td>\n",
       "      <td>54:14</td>\n",
       "      <td>Male</td>\n",
       "      <td>50</td>\n",
       "      <td>10.60</td>\n",
       "      <td>2990.0</td>\n",
       "      <td>97</td>\n",
       "    </tr>\n",
       "    <tr>\n",
       "      <th>...</th>\n",
       "      <td>...</td>\n",
       "      <td>...</td>\n",
       "      <td>...</td>\n",
       "      <td>...</td>\n",
       "      <td>...</td>\n",
       "      <td>...</td>\n",
       "      <td>...</td>\n",
       "      <td>...</td>\n",
       "      <td>...</td>\n",
       "      <td>...</td>\n",
       "      <td>...</td>\n",
       "      <td>...</td>\n",
       "      <td>...</td>\n",
       "    </tr>\n",
       "    <tr>\n",
       "      <th>2016MEND15</th>\n",
       "      <td>1996</td>\n",
       "      <td>Raquel Mendivelso</td>\n",
       "      <td>3/5</td>\n",
       "      <td>Colombia</td>\n",
       "      <td>GeniusCube 2016</td>\n",
       "      <td>2016</td>\n",
       "      <td>1</td>\n",
       "      <td>43:35</td>\n",
       "      <td>Female</td>\n",
       "      <td>4</td>\n",
       "      <td>56.12</td>\n",
       "      <td>112773.0</td>\n",
       "      <td>177</td>\n",
       "    </tr>\n",
       "    <tr>\n",
       "      <th>2013WEAV01</th>\n",
       "      <td>1997</td>\n",
       "      <td>Sydney Weaver</td>\n",
       "      <td>7/13</td>\n",
       "      <td>United States</td>\n",
       "      <td>US Nationals 2015</td>\n",
       "      <td>2015</td>\n",
       "      <td>1</td>\n",
       "      <td>44:05</td>\n",
       "      <td>Female</td>\n",
       "      <td>22</td>\n",
       "      <td>9.12</td>\n",
       "      <td>958.0</td>\n",
       "      <td>449</td>\n",
       "    </tr>\n",
       "    <tr>\n",
       "      <th>2014SUAR05</th>\n",
       "      <td>1998</td>\n",
       "      <td>Diego Suarez</td>\n",
       "      <td>3/5</td>\n",
       "      <td>Peru</td>\n",
       "      <td>INABIF Open 2015</td>\n",
       "      <td>2015</td>\n",
       "      <td>1</td>\n",
       "      <td>44:16</td>\n",
       "      <td>Male</td>\n",
       "      <td>6</td>\n",
       "      <td>24.62</td>\n",
       "      <td>54342.0</td>\n",
       "      <td>54</td>\n",
       "    </tr>\n",
       "    <tr>\n",
       "      <th>2016OLIV01</th>\n",
       "      <td>1999</td>\n",
       "      <td>Yuri de Oliveira</td>\n",
       "      <td>3/5</td>\n",
       "      <td>Brazil</td>\n",
       "      <td>VilaVelhaQuiet 2019</td>\n",
       "      <td>2019</td>\n",
       "      <td>1</td>\n",
       "      <td>44:54</td>\n",
       "      <td>Male</td>\n",
       "      <td>11</td>\n",
       "      <td>13.96</td>\n",
       "      <td>13108.0</td>\n",
       "      <td>6</td>\n",
       "    </tr>\n",
       "    <tr>\n",
       "      <th>2013BULM01</th>\n",
       "      <td>2000</td>\n",
       "      <td>JP Bulman</td>\n",
       "      <td>3/5</td>\n",
       "      <td>United States</td>\n",
       "      <td>Please Be Quiet WPI Spring 2019</td>\n",
       "      <td>2019</td>\n",
       "      <td>1</td>\n",
       "      <td>46:08</td>\n",
       "      <td>Male</td>\n",
       "      <td>43</td>\n",
       "      <td>10.66</td>\n",
       "      <td>3095.0</td>\n",
       "      <td>17</td>\n",
       "    </tr>\n",
       "  </tbody>\n",
       "</table>\n",
       "<p>2000 rows × 13 columns</p>\n",
       "</div>"
      ],
      "text/plain": [
       "            rank                name result     citizen_of  \\\n",
       "wca_id                                                       \n",
       "2016SIGG01     1      Graham Siggins  59/60  United States   \n",
       "2011BANS02     2       Shivam Bansal  48/48          India   \n",
       "2015CHEN49     3  Yucheng Chen (陈裕铖)  47/49          China   \n",
       "2014BOYA01     4     Mark Boyanowski  47/50  United States   \n",
       "2011KOWA01     5    Marcin Kowalczyk  41/41         Poland   \n",
       "...          ...                 ...    ...            ...   \n",
       "2016MEND15  1996   Raquel Mendivelso    3/5       Colombia   \n",
       "2013WEAV01  1997       Sydney Weaver   7/13  United States   \n",
       "2014SUAR05  1998        Diego Suarez    3/5           Peru   \n",
       "2016OLIV01  1999    Yuri de Oliveira    3/5         Brazil   \n",
       "2013BULM01  2000           JP Bulman    3/5  United States   \n",
       "\n",
       "                                competition  year  result_points result_time  \\\n",
       "wca_id                                                                         \n",
       "2016SIGG01           OSU Blind Weekend 2019  2019             58       59:46   \n",
       "2011BANS02          Delhi Monsoon Open 2018  2018             48       59:48   \n",
       "2015CHEN49           Shenzhen 3x3 Days 2019  2019             45       58:05   \n",
       "2014BOYA01      WCA World Championship 2019  2019             44       54:18   \n",
       "2011KOWA01              SLS Swierklany 2013  2013             41       54:14   \n",
       "...                                     ...   ...            ...         ...   \n",
       "2016MEND15                  GeniusCube 2016  2016              1       43:35   \n",
       "2013WEAV01                US Nationals 2015  2015              1       44:05   \n",
       "2014SUAR05                 INABIF Open 2015  2015              1       44:16   \n",
       "2016OLIV01              VilaVelhaQuiet 2019  2019              1       44:54   \n",
       "2013BULM01  Please Be Quiet WPI Spring 2019  2019              1       46:08   \n",
       "\n",
       "            gender  attended_competitions 333_average  333_world_rank  \\\n",
       "wca_id                                                                  \n",
       "2016SIGG01    Male                     53       10.99          3786.0   \n",
       "2011BANS02    Male                     73        9.29          1107.0   \n",
       "2015CHEN49    Male                     64       20.02         37918.0   \n",
       "2014BOYA01    Male                     93       10.74          3222.0   \n",
       "2011KOWA01    Male                     50       10.60          2990.0   \n",
       "...            ...                    ...         ...             ...   \n",
       "2016MEND15  Female                      4       56.12        112773.0   \n",
       "2013WEAV01  Female                     22        9.12           958.0   \n",
       "2014SUAR05    Male                      6       24.62         54342.0   \n",
       "2016OLIV01    Male                     11       13.96         13108.0   \n",
       "2013BULM01    Male                     43       10.66          3095.0   \n",
       "\n",
       "            competition_size  \n",
       "wca_id                        \n",
       "2016SIGG01                16  \n",
       "2011BANS02                35  \n",
       "2015CHEN49               140  \n",
       "2014BOYA01               833  \n",
       "2011KOWA01                97  \n",
       "...                      ...  \n",
       "2016MEND15               177  \n",
       "2013WEAV01               449  \n",
       "2014SUAR05                54  \n",
       "2016OLIV01                 6  \n",
       "2013BULM01                17  \n",
       "\n",
       "[2000 rows x 13 columns]"
      ]
     },
     "execution_count": 4,
     "metadata": {},
     "output_type": "execute_result"
    }
   ],
   "source": [
    "multi"
   ]
  },
  {
   "cell_type": "markdown",
   "metadata": {},
   "source": [
    "##### Tudi tu si pobliže oglejmo posamezno vrstico.\n",
    "Večina stolpcev je enaka kot v prvi tabeli. `result` je razbit na tri stolpce, saj se rezultat pri multiju obravnava povsem drugače. Tekmovalčev poskus traja največ 60 minut. Vnaprej si pripravi število kock, ki jih bo reševal. Med časom memorizacije in časom samega reševanja se ne razlikuje, seštevek obeh časov se zabeleži kot `result_time`. Rezultati se razvrstijo leksikografsko, najprej po točkah rezultata (`result_points`), nato pa po porabljenem času (`result_time`), slednji je seveda sekundarnega pomena. Točke se računajo kot (št. rešenih kock) - (št. nerešenih kock), npr. rezultat 4/4 prinese 4 - 0 = 4 točke. Rezultat 14/17 pa 14 - 3 = 11 točk. Več o pravilniku lahko bralec najde [na tej povezavi](https://www.worldcubeassociation.org/regulations/#article-H-multiple-blindfolded).<br>\n",
    "V drugi tabeli najdemo dva dodatna stolpca. To sta `333_average` in `333_world_rank`, ki sta enakovredna stolpcema `result` ter `rank` iz prve tabele. Predstavljata dodatno informacijo o tekmovalčevi \"osnovni sposobnosti reševanja\"."
   ]
  },
  {
   "cell_type": "code",
   "execution_count": 5,
   "metadata": {},
   "outputs": [
    {
     "data": {
      "text/html": [
       "<div>\n",
       "<style scoped>\n",
       "    .dataframe tbody tr th:only-of-type {\n",
       "        vertical-align: middle;\n",
       "    }\n",
       "\n",
       "    .dataframe tbody tr th {\n",
       "        vertical-align: top;\n",
       "    }\n",
       "\n",
       "    .dataframe thead th {\n",
       "        text-align: right;\n",
       "    }\n",
       "</style>\n",
       "<table border=\"1\" class=\"dataframe\">\n",
       "  <thead>\n",
       "    <tr style=\"text-align: right;\">\n",
       "      <th></th>\n",
       "      <th>rank</th>\n",
       "      <th>name</th>\n",
       "      <th>result</th>\n",
       "      <th>citizen_of</th>\n",
       "      <th>competition</th>\n",
       "      <th>year</th>\n",
       "      <th>result_points</th>\n",
       "      <th>result_time</th>\n",
       "      <th>gender</th>\n",
       "      <th>attended_competitions</th>\n",
       "      <th>333_average</th>\n",
       "      <th>333_world_rank</th>\n",
       "      <th>competition_size</th>\n",
       "    </tr>\n",
       "    <tr>\n",
       "      <th>wca_id</th>\n",
       "      <th></th>\n",
       "      <th></th>\n",
       "      <th></th>\n",
       "      <th></th>\n",
       "      <th></th>\n",
       "      <th></th>\n",
       "      <th></th>\n",
       "      <th></th>\n",
       "      <th></th>\n",
       "      <th></th>\n",
       "      <th></th>\n",
       "      <th></th>\n",
       "      <th></th>\n",
       "    </tr>\n",
       "  </thead>\n",
       "  <tbody>\n",
       "    <tr>\n",
       "      <th>2015BOLT01</th>\n",
       "      <td>900</td>\n",
       "      <td>Matej Bolta</td>\n",
       "      <td>4/4</td>\n",
       "      <td>Slovenia</td>\n",
       "      <td>Italian Championship 2019</td>\n",
       "      <td>2019</td>\n",
       "      <td>4</td>\n",
       "      <td>35:05</td>\n",
       "      <td>Male</td>\n",
       "      <td>19</td>\n",
       "      <td>11.69</td>\n",
       "      <td>5444.0</td>\n",
       "      <td>179</td>\n",
       "    </tr>\n",
       "  </tbody>\n",
       "</table>\n",
       "</div>"
      ],
      "text/plain": [
       "            rank         name result citizen_of                competition  \\\n",
       "wca_id                                                                       \n",
       "2015BOLT01   900  Matej Bolta    4/4   Slovenia  Italian Championship 2019   \n",
       "\n",
       "            year  result_points result_time gender  attended_competitions  \\\n",
       "wca_id                                                                      \n",
       "2015BOLT01  2019              4       35:05   Male                     19   \n",
       "\n",
       "           333_average  333_world_rank  competition_size  \n",
       "wca_id                                                    \n",
       "2015BOLT01       11.69          5444.0               179  "
      ]
     },
     "execution_count": 5,
     "metadata": {},
     "output_type": "execute_result"
    }
   ],
   "source": [
    "multi[multi['rank'] == 900] # neugodno, .rank je že vgrajena funkcija v pandasih"
   ]
  },
  {
   "cell_type": "markdown",
   "metadata": {},
   "source": [
    "### Analiza podatkov"
   ]
  },
  {
   "cell_type": "markdown",
   "metadata": {},
   "source": [
    "#### Vpliv izkušenosti tekmovalca na njegovo razvrstitev\n",
    "Želimo ugotoviti, ali obstaja kakšna povezava med izkušenostjo tekmovalcev (število tekmovanj, ki so se jih udeležili) in njihovo razvrstitvijo. Najprej bomo tabelama dodali stolpec zaokroženih udeleženih tekmovanj na pet natančno. Nato bomo vzeli le najboljših 500 tekmovalcev v obeh disciplinah in izločili tiste z več kot 100 tekmovanji (to so ponavadi delegati), saj bi bil graf sicer pokvarjen. Nato izrišemo graf, kjer se na abscisi vidi izkušenost, na ordinati pa število tekmovalcev."
   ]
  },
  {
   "cell_type": "code",
   "execution_count": 6,
   "metadata": {},
   "outputs": [],
   "source": [
    "trojka['attended_comps_rounded'] = 5 * ((trojka.attended_competitions) // 5)\n",
    "multi['attended_comps_rounded'] = 5 * ((multi.attended_competitions) // 5)"
   ]
  },
  {
   "cell_type": "code",
   "execution_count": 7,
   "metadata": {},
   "outputs": [
    {
     "data": {
      "text/plain": [
       "<matplotlib.axes._subplots.AxesSubplot at 0xf07f700>"
      ]
     },
     "execution_count": 7,
     "metadata": {},
     "output_type": "execute_result"
    },
    {
     "data": {
      "image/png": "[encoded data removed]",
      "text/plain": [
       "<Figure size 432x288 with 2 Axes>"
      ]
     },
     "metadata": {
      "needs_background": "light"
     },
     "output_type": "display_data"
    }
   ],
   "source": [
    "# https://stackoverflow.com/questions/16392921/make-more-than-one-chart-in-same-ipython-notebook-cell\n",
    "_, axs = matplotlib.pyplot.subplots(1,2)\n",
    "\n",
    "trojka[\n",
    "    (trojka.attended_comps_rounded <= 100) & (trojka['rank'] <= 500)\n",
    "].groupby(\n",
    "    'attended_comps_rounded'\n",
    ").size().plot.bar(ax=axs[0])\n",
    "\n",
    "multi[\n",
    "    (multi.attended_comps_rounded <= 100) & (multi['rank'] <= 500)\n",
    "].groupby(\n",
    "    'attended_comps_rounded'\n",
    ").size().plot.bar(ax=axs[1])\n",
    "\n",
    "# Vzporedna grafa sta žal zelo stisnjena po abscisi."
   ]
  },
  {
   "cell_type": "markdown",
   "metadata": {},
   "source": [
    "Ugotovili smo, da se je največ dobrih tekmovalcev v Kocki 3x3x3 udeležilo med 10 in 40 tekmovanj. Na drugi strani se je največ dobrih reševalcev na slepo udeležilo med 5 in 25 tekmovanj, kar je občutno manj. Najizkušenejši tekmovalci tako niso vedno najboljši. Kljub temu pa je za dober rezultat potrebna tudi neka mera izkušenj. Načeloma se za izkušenega tekmovalca obravnava vsak z deset ali več tekmovanji.<br>\n",
    "Ena od razlag za razliko med grafoma bi lahko bila tudi to, da se tekmovanja v bolj eksotičnih disciplinah prirejajo redkeje."
   ]
  },
  {
   "cell_type": "markdown",
   "metadata": {},
   "source": [
    "#### Spreminjanje doseženega rezultata (v času oziroma točkah) v odvisnosti od uvrstitve\n",
    "To lahko preverimo kot graf zvezne spremenljivke (rank). Predvidevam, da najboljših nekaj posameznikov močno odstopa od ostalih, torej bo 'odvod po uvrstitvi' pri nizkih uvrstitvah veliko večji kot pri višjih, pri slepem reševanju pa je ravno obratno, saj je cilj doseči čimveč točk (v primerjavi s čim nižjim časom pri Kocki 3x3x3)."
   ]
  },
  {
   "cell_type": "code",
   "execution_count": 8,
   "metadata": {
    "scrolled": true
   },
   "outputs": [
    {
     "data": {
      "text/plain": [
       "<matplotlib.axes._subplots.AxesSubplot at 0xf2f1a48>"
      ]
     },
     "execution_count": 8,
     "metadata": {},
     "output_type": "execute_result"
    },
    {
     "data": {
      "image/png": "[encoded data removed]",
      "text/plain": [
       "<Figure size 432x288 with 1 Axes>"
      ]
     },
     "metadata": {
      "needs_background": "light"
     },
     "output_type": "display_data"
    },
    {
     "data": {
      "image/png": "[encoded data removed]",
      "text/plain": [
       "<Figure size 432x288 with 1 Axes>"
      ]
     },
     "metadata": {
      "needs_background": "light"
     },
     "output_type": "display_data"
    }
   ],
   "source": [
    "trojka.plot(x='rank', y='result')\n",
    "multi.plot(x='rank', y='result_points')"
   ]
  },
  {
   "cell_type": "markdown",
   "metadata": {},
   "source": [
    "Pobliže si oglejmo še enak graf, vendar le za najboljših 100 tekmovalcev."
   ]
  },
  {
   "cell_type": "code",
   "execution_count": 9,
   "metadata": {},
   "outputs": [
    {
     "data": {
      "text/plain": [
       "<matplotlib.axes._subplots.AxesSubplot at 0xf3757a8>"
      ]
     },
     "execution_count": 9,
     "metadata": {},
     "output_type": "execute_result"
    },
    {
     "data": {
      "image/png": "[encoded data removed]",
      "text/plain": [
       "<Figure size 432x288 with 1 Axes>"
      ]
     },
     "metadata": {
      "needs_background": "light"
     },
     "output_type": "display_data"
    },
    {
     "data": {
      "image/png": "[encoded data removed]",
      "text/plain": [
       "<Figure size 432x288 with 1 Axes>"
      ]
     },
     "metadata": {
      "needs_background": "light"
     },
     "output_type": "display_data"
    }
   ],
   "source": [
    "trojka[trojka['rank'] <= 100].plot(x='rank', y='result')\n",
    "multi[multi['rank'] <= 100].plot(x='rank', y='result_points')"
   ]
  },
  {
   "cell_type": "markdown",
   "metadata": {},
   "source": [
    "Našo hipotezo smo nedvoumno potrdili. Razlika med največjo elito in ostalimi je zelo očitna pri obeh disciplinah, še veliko bolj pri slepem reševanju. Pri spodnjih dveh grafih lahko vidimo, da se prvih 10 tekmovalcev razlikuje med seboj približno toliko kot preostalih 90 skupaj."
   ]
  },
  {
   "cell_type": "markdown",
   "metadata": {},
   "source": [
    "#### Rast popularnosti kockanja in porast dobrih tekmovalcev skozi čas\n",
    "Vzemimo najboljših 500 rezultatov v obeh disciplinah in poglejmo, katerega leta je bilo zabeleženih največ vnosov. Ali so bili najboljši rezultati doseženi v zadnjih letih? Predvidevamo, da bo to veljalo pri 3x3x3, pri slepem reševanju pa ne. Več o razlogih za to spodaj."
   ]
  },
  {
   "cell_type": "code",
   "execution_count": 10,
   "metadata": {},
   "outputs": [
    {
     "data": {
      "text/plain": [
       "<matplotlib.axes._subplots.AxesSubplot at 0xf361808>"
      ]
     },
     "execution_count": 10,
     "metadata": {},
     "output_type": "execute_result"
    },
    {
     "data": {
      "image/png": "[encoded data removed]",
      "text/plain": [
       "<Figure size 432x288 with 1 Axes>"
      ]
     },
     "metadata": {
      "needs_background": "light"
     },
     "output_type": "display_data"
    }
   ],
   "source": [
    "trojka[\n",
    "    trojka['rank'] <= 500\n",
    "].groupby('year').size().plot.bar()\n"
   ]
  },
  {
   "cell_type": "code",
   "execution_count": 11,
   "metadata": {},
   "outputs": [
    {
     "data": {
      "text/plain": [
       "<matplotlib.axes._subplots.AxesSubplot at 0xf29d3d0>"
      ]
     },
     "execution_count": 11,
     "metadata": {},
     "output_type": "execute_result"
    },
    {
     "data": {
      "image/png": "[encoded data removed]",
      "text/plain": [
       "<Figure size 432x288 with 1 Axes>"
      ]
     },
     "metadata": {
      "needs_background": "light"
     },
     "output_type": "display_data"
    }
   ],
   "source": [
    "multi[\n",
    "    multi['rank'] <= 500\n",
    "].groupby('year').size().plot.bar()"
   ]
  },
  {
   "cell_type": "markdown",
   "metadata": {},
   "source": [
    "Grafa potrjujeta našo hipotezo. Pri prvem vidimo, da pred letom 2017 ni več skoraj nobenega rezultata med najboljšimi 500. Drugi graf pa pokaže, da so bili dobri rezultati beleženi vse od leta 2012 naprej, še vedno pa vidimo eksponentno rast v zadnjih letih.<br>\n",
    "Leto 2020 tukaj seveda ne pokaže pravega stanja, saj so bila vsa tekmovanja po nekaj mesecih ustavljena zaradi pandemije SARS-CoV-2, kar graf tudi lepo prikaže.<br>\n",
    "Zakaj so skoraj vsi najboljši rezultati pri Kocki 3x3x3 doseženi v zadnjih nekaj letih? Razlogov je več. Najpomembnejši je razvoj opreme - samih kock (\"hardware\"). Približno pred desetimi leti so se na tržišču začeli pojavljati prve tako imenovane \"speedcubes\" - hitrostne kocke. Razvoj v zadnjih petih letih raste eksponentno, mehanizmi se konstantno izboljšujejo in vedno več podjetij razvija svoje inovativne rešitve za boljšo kocko. Tako kocka izpred petih let poznavalcu deluje kot iz kamene dobe. Drugi zelo pomemben razlog pa je razvoj samih reševalnih metod. Te postajajo vedno učinkovitejše, kar pripelje do boljših časov.<br>\n",
    "Pri disciplini Več kock na slepo je vpliv \"hardwara\" veliko manjši. Bolj pomembna je mirna glava kot dobra kocka. Metoda reševanja se sicer tudi razvija, a na rezultate ne vpliva tako močno, saj principe spominske palače poznamo že zelo dolgo. Rezultati na grafih nas zato ne presenečajo."
   ]
  },
  {
   "cell_type": "markdown",
   "metadata": {},
   "source": [
    "#### Vpliv spola na lestvice\n",
    "Pri drugih \"športih\" pogosto vidimo, da moški dosegajo boljše rezultate kot ženske. Tukaj pa fizična komponenta ni tako zelo ključna - sklepamo, da bi ženske lahko dosegale razultate, enakovredne moškim. Poglejmo, kaj pravijo številke. Vzemimo najboljših 2000 tekmovalcev v obeh disciplinah."
   ]
  },
  {
   "cell_type": "code",
   "execution_count": 12,
   "metadata": {},
   "outputs": [
    {
     "data": {
      "text/plain": [
       "gender\n",
       "Female      47\n",
       "Male      1974\n",
       "dtype: int64"
      ]
     },
     "execution_count": 12,
     "metadata": {},
     "output_type": "execute_result"
    }
   ],
   "source": [
    "trojka[trojka['rank'] <= 2000].groupby('gender').size()\n",
    "# Seštevek je večji od 2000, saj si zadnje mesto, ki je še nižje od 2000, deli več tekmovalcev."
   ]
  },
  {
   "cell_type": "code",
   "execution_count": 13,
   "metadata": {},
   "outputs": [
    {
     "data": {
      "text/plain": [
       "gender\n",
       "Female      77\n",
       "Male      1923\n",
       "dtype: int64"
      ]
     },
     "execution_count": 13,
     "metadata": {},
     "output_type": "execute_result"
    }
   ],
   "source": [
    "multi.groupby('gender').size()"
   ]
  },
  {
   "cell_type": "markdown",
   "metadata": {},
   "source": [
    "Vidimo, da vseeno prevladuje moški spol. Pri 3x3x3 sicer še bolj kot pri Multiple Blindfolded."
   ]
  },
  {
   "cell_type": "markdown",
   "metadata": {},
   "source": [
    "#### Vpliv velikosti tekmovanja na dosežene rezultate\n",
    "Večina tekmovanj ima omejitev tekmovalcev med 50 in 200. Predvidevamo, da manjša tekmovanja pripeljejo do več dobrih rezultatov, saj je pritisk tekmovanja tam veliko manjši. "
   ]
  },
  {
   "cell_type": "code",
   "execution_count": 14,
   "metadata": {},
   "outputs": [
    {
     "data": {
      "text/plain": [
       "<matplotlib.axes._subplots.AxesSubplot at 0xf3af5e0>"
      ]
     },
     "execution_count": 14,
     "metadata": {},
     "output_type": "execute_result"
    },
    {
     "data": {
      "image/png": "[encoded data removed]",
      "text/plain": [
       "<Figure size 432x288 with 1 Axes>"
      ]
     },
     "metadata": {
      "needs_background": "light"
     },
     "output_type": "display_data"
    }
   ],
   "source": [
    "trojka[trojka['rank'] <= 500].plot.scatter(x='competition_size', y='rank')"
   ]
  },
  {
   "cell_type": "markdown",
   "metadata": {},
   "source": [
    "Med velikostjo tekmovanja in doseženimi rezultati ne vidimo nobene povezave. Edina stvar, ki jo iz grafov lahko razberemo, je, da je velikih tekmovanj zelo malo (z več kot 400 tekmovalci). To so ponavadi le kontinentalna in svetovna prvenstva."
   ]
  },
  {
   "cell_type": "code",
   "execution_count": 15,
   "metadata": {},
   "outputs": [
    {
     "data": {
      "text/plain": [
       "<matplotlib.axes._subplots.AxesSubplot at 0xf414670>"
      ]
     },
     "execution_count": 15,
     "metadata": {},
     "output_type": "execute_result"
    },
    {
     "data": {
      "image/png": "[encoded data removed]",
      "text/plain": [
       "<Figure size 432x288 with 1 Axes>"
      ]
     },
     "metadata": {
      "needs_background": "light"
     },
     "output_type": "display_data"
    }
   ],
   "source": [
    "trojka[(trojka['rank'] <= 100) & (trojka.competition_size <= 200)].plot.scatter(x='competition_size', y='rank')"
   ]
  },
  {
   "cell_type": "markdown",
   "metadata": {},
   "source": [
    "Tudi, če se omejimo le na najboljših 100 tekmovalcev ter zmerno velika tekmovanja, še vedno ne vidimo povezave med rezultati in velikostjo tekmovanja."
   ]
  },
  {
   "cell_type": "markdown",
   "metadata": {},
   "source": [
    "#### Najboljše države\n",
    "Zanima nas, katere države imajo največ dobrih uvrstitev oziroma tekmovalcev. Ali lahko prepoznamo kakšno velesilo, kot pri drugih športih? Ali smo Slovenci konkurenčni v svetovnem merilu? Kje se nahajamo?<br>\n",
    "V Evropi se je kot največja velesila uveljavila (presenetljivo?) Poljska, v svetu pa ZDA. Poglejmo, kaj na to pravijo številke."
   ]
  },
  {
   "cell_type": "code",
   "execution_count": 16,
   "metadata": {},
   "outputs": [
    {
     "data": {
      "text/plain": [
       "citizen_of\n",
       "Indonesia             201\n",
       "Republic of Korea     206\n",
       "Mexico                209\n",
       "Malaysia              209\n",
       "Germany               212\n",
       "Australia             214\n",
       "Canada                321\n",
       "Poland                328\n",
       "Russia                359\n",
       "India                 390\n",
       "Philippines           409\n",
       "China                1563\n",
       "United States        1736\n",
       "dtype: int64"
      ]
     },
     "execution_count": 16,
     "metadata": {},
     "output_type": "execute_result"
    }
   ],
   "source": [
    "trojka.groupby('citizen_of').size().sort_values().tail(13)"
   ]
  },
  {
   "cell_type": "markdown",
   "metadata": {},
   "source": [
    "Vidimo, da pri 3x3x3 prevladujeta ZDA in Kitajska. To se ne zdi presenetljivo. Največje presenečenje na seznamu predstavljajo Filipini, mogoče tudi Malezija ter Indonezija. Če se omejimo le na Evropo, številke Poljsko potrdijo kot nesporno zmagovalko. Edina druga evropska država na seznamu je Nemčija. Oba podatka sta pričakovana."
   ]
  },
  {
   "cell_type": "code",
   "execution_count": 17,
   "metadata": {},
   "outputs": [
    {
     "data": {
      "text/plain": [
       "citizen_of\n",
       "Brazil             55\n",
       "Spain              57\n",
       "United Kingdom     57\n",
       "Japan              68\n",
       "Australia          68\n",
       "France             69\n",
       "Germany            76\n",
       "Russia             77\n",
       "Indonesia          90\n",
       "Poland             97\n",
       "India              99\n",
       "China             155\n",
       "United States     283\n",
       "dtype: int64"
      ]
     },
     "execution_count": 17,
     "metadata": {},
     "output_type": "execute_result"
    }
   ],
   "source": [
    "multi.groupby('citizen_of').size().sort_values().tail(13)"
   ]
  },
  {
   "cell_type": "markdown",
   "metadata": {},
   "source": [
    "Tudi pri Multiple Blindfolded vidimo podobne rezultate. Številke so ustrezno manjše, saj gledamo vzorec 2000 tekmovalcev namesto 10 000 kot pri 3x3x3. Med najboljšimi državami pa vidimo več evropskih držav, razlika je kar velika. To nas ne sme presenečati, saj pri tej disciplini pride bolj do izraza kvaliteta kot kvantiteta tekmovalcev.<br>\n",
    "Poglejmo še, kaj se zgodi, če se omejimo le na elito pri disciplini 3x3x3."
   ]
  },
  {
   "cell_type": "code",
   "execution_count": 18,
   "metadata": {},
   "outputs": [
    {
     "data": {
      "text/plain": [
       "citizen_of\n",
       "Ukraine                9\n",
       "United Kingdom        10\n",
       "Russia                10\n",
       "Germany               12\n",
       "India                 14\n",
       "France                14\n",
       "Australia             15\n",
       "Republic of Korea     18\n",
       "Philippines           20\n",
       "Canada                21\n",
       "Poland                21\n",
       "China                 41\n",
       "United States        137\n",
       "dtype: int64"
      ]
     },
     "execution_count": 18,
     "metadata": {},
     "output_type": "execute_result"
    }
   ],
   "source": [
    "trojka[trojka['rank'] <= 500].groupby('citizen_of').size().sort_values().tail(13)"
   ]
  },
  {
   "cell_type": "markdown",
   "metadata": {},
   "source": [
    "Opazimo močno prevlado ZDA. Poljska se drži zelo visoko glede na njeno število prebivalcev.<br>\n",
    "Poglejmo še slovensko prisotnost na svetovni lestvici. Na spodnji (prvi) tabeli vidimo, da imamo ravno 10 tekmovalcev uvrščenih med najboljših 5000. Na spodnji (drugi) tabeli pa vidimo, da je med najboljših 2000 tekmovalcev pri multiju uvrščenih sedem Slovencev."
   ]
  },
  {
   "cell_type": "code",
   "execution_count": 19,
   "metadata": {},
   "outputs": [
    {
     "data": {
      "text/html": [
       "<div>\n",
       "<style scoped>\n",
       "    .dataframe tbody tr th:only-of-type {\n",
       "        vertical-align: middle;\n",
       "    }\n",
       "\n",
       "    .dataframe tbody tr th {\n",
       "        vertical-align: top;\n",
       "    }\n",
       "\n",
       "    .dataframe thead th {\n",
       "        text-align: right;\n",
       "    }\n",
       "</style>\n",
       "<table border=\"1\" class=\"dataframe\">\n",
       "  <thead>\n",
       "    <tr style=\"text-align: right;\">\n",
       "      <th></th>\n",
       "      <th>rank</th>\n",
       "      <th>name</th>\n",
       "      <th>result</th>\n",
       "      <th>citizen_of</th>\n",
       "      <th>competition</th>\n",
       "      <th>year</th>\n",
       "      <th>gender</th>\n",
       "      <th>attended_competitions</th>\n",
       "      <th>competition_size</th>\n",
       "      <th>attended_comps_rounded</th>\n",
       "    </tr>\n",
       "    <tr>\n",
       "      <th>wca_id</th>\n",
       "      <th></th>\n",
       "      <th></th>\n",
       "      <th></th>\n",
       "      <th></th>\n",
       "      <th></th>\n",
       "      <th></th>\n",
       "      <th></th>\n",
       "      <th></th>\n",
       "      <th></th>\n",
       "      <th></th>\n",
       "    </tr>\n",
       "  </thead>\n",
       "  <tbody>\n",
       "    <tr>\n",
       "      <th>2014ZUPA01</th>\n",
       "      <td>183</td>\n",
       "      <td>Staš Zupanc</td>\n",
       "      <td>7.72</td>\n",
       "      <td>Slovenia</td>\n",
       "      <td>Osijek Open 2017</td>\n",
       "      <td>2017</td>\n",
       "      <td>Male</td>\n",
       "      <td>21</td>\n",
       "      <td>33</td>\n",
       "      <td>20</td>\n",
       "    </tr>\n",
       "    <tr>\n",
       "      <th>2015CURM01</th>\n",
       "      <td>522</td>\n",
       "      <td>Nejc Ian Čurman</td>\n",
       "      <td>8.51</td>\n",
       "      <td>Slovenia</td>\n",
       "      <td>WCA Euro 2018</td>\n",
       "      <td>2018</td>\n",
       "      <td>Male</td>\n",
       "      <td>25</td>\n",
       "      <td>587</td>\n",
       "      <td>25</td>\n",
       "    </tr>\n",
       "    <tr>\n",
       "      <th>2016RUCI01</th>\n",
       "      <td>568</td>\n",
       "      <td>Marcel Ručigaj</td>\n",
       "      <td>8.61</td>\n",
       "      <td>Slovenia</td>\n",
       "      <td>Prebold Open 2019</td>\n",
       "      <td>2019</td>\n",
       "      <td>Male</td>\n",
       "      <td>32</td>\n",
       "      <td>52</td>\n",
       "      <td>30</td>\n",
       "    </tr>\n",
       "    <tr>\n",
       "      <th>2010GREG01</th>\n",
       "      <td>679</td>\n",
       "      <td>Jure Gregorc</td>\n",
       "      <td>8.79</td>\n",
       "      <td>Slovenia</td>\n",
       "      <td>Slovenian Open 2017</td>\n",
       "      <td>2017</td>\n",
       "      <td>Male</td>\n",
       "      <td>33</td>\n",
       "      <td>55</td>\n",
       "      <td>30</td>\n",
       "    </tr>\n",
       "    <tr>\n",
       "      <th>2010OMUL02</th>\n",
       "      <td>1340</td>\n",
       "      <td>Matic Omulec</td>\n",
       "      <td>9.51</td>\n",
       "      <td>Slovenia</td>\n",
       "      <td>Munich Open 2018</td>\n",
       "      <td>2018</td>\n",
       "      <td>Male</td>\n",
       "      <td>65</td>\n",
       "      <td>144</td>\n",
       "      <td>65</td>\n",
       "    </tr>\n",
       "    <tr>\n",
       "      <th>2018SUHA03</th>\n",
       "      <td>2191</td>\n",
       "      <td>Jan Vodopivec Suhadolc</td>\n",
       "      <td>10.13</td>\n",
       "      <td>Slovenia</td>\n",
       "      <td>Ljubljana Open 2019</td>\n",
       "      <td>2019</td>\n",
       "      <td>Male</td>\n",
       "      <td>5</td>\n",
       "      <td>44</td>\n",
       "      <td>5</td>\n",
       "    </tr>\n",
       "    <tr>\n",
       "      <th>2012DOBR01</th>\n",
       "      <td>2458</td>\n",
       "      <td>Blaž Dobravec</td>\n",
       "      <td>10.30</td>\n",
       "      <td>Slovenia</td>\n",
       "      <td>Ljubljana Open 2016</td>\n",
       "      <td>2016</td>\n",
       "      <td>Male</td>\n",
       "      <td>18</td>\n",
       "      <td>30</td>\n",
       "      <td>15</td>\n",
       "    </tr>\n",
       "    <tr>\n",
       "      <th>2015ANTL01</th>\n",
       "      <td>2458</td>\n",
       "      <td>Domen Antlej</td>\n",
       "      <td>10.30</td>\n",
       "      <td>Slovenia</td>\n",
       "      <td>Ljubljana Open 2016</td>\n",
       "      <td>2016</td>\n",
       "      <td>Male</td>\n",
       "      <td>4</td>\n",
       "      <td>30</td>\n",
       "      <td>0</td>\n",
       "    </tr>\n",
       "    <tr>\n",
       "      <th>2013GLIN01</th>\n",
       "      <td>3377</td>\n",
       "      <td>Rok Glinšek</td>\n",
       "      <td>10.81</td>\n",
       "      <td>Slovenia</td>\n",
       "      <td>Ljubljana Open 2019</td>\n",
       "      <td>2019</td>\n",
       "      <td>Male</td>\n",
       "      <td>16</td>\n",
       "      <td>44</td>\n",
       "      <td>15</td>\n",
       "    </tr>\n",
       "    <tr>\n",
       "      <th>2017FABJ01</th>\n",
       "      <td>4031</td>\n",
       "      <td>Lan Fabjan</td>\n",
       "      <td>11.09</td>\n",
       "      <td>Slovenia</td>\n",
       "      <td>Ponikva Open 2019</td>\n",
       "      <td>2019</td>\n",
       "      <td>Male</td>\n",
       "      <td>8</td>\n",
       "      <td>43</td>\n",
       "      <td>5</td>\n",
       "    </tr>\n",
       "    <tr>\n",
       "      <th>2015BOLT01</th>\n",
       "      <td>5440</td>\n",
       "      <td>Matej Bolta</td>\n",
       "      <td>11.69</td>\n",
       "      <td>Slovenia</td>\n",
       "      <td>Slovenian Nationals 2019</td>\n",
       "      <td>2019</td>\n",
       "      <td>Male</td>\n",
       "      <td>19</td>\n",
       "      <td>52</td>\n",
       "      <td>15</td>\n",
       "    </tr>\n",
       "    <tr>\n",
       "      <th>2017ROSK02</th>\n",
       "      <td>6637</td>\n",
       "      <td>Erik Červek Roškarič</td>\n",
       "      <td>12.11</td>\n",
       "      <td>Slovenia</td>\n",
       "      <td>Slovenian Nationals 2019</td>\n",
       "      <td>2019</td>\n",
       "      <td>Male</td>\n",
       "      <td>10</td>\n",
       "      <td>52</td>\n",
       "      <td>10</td>\n",
       "    </tr>\n",
       "    <tr>\n",
       "      <th>2014KROP01</th>\n",
       "      <td>7261</td>\n",
       "      <td>Peter Kropec</td>\n",
       "      <td>12.31</td>\n",
       "      <td>Slovenia</td>\n",
       "      <td>Slovenian Open 2015</td>\n",
       "      <td>2015</td>\n",
       "      <td>Male</td>\n",
       "      <td>3</td>\n",
       "      <td>44</td>\n",
       "      <td>0</td>\n",
       "    </tr>\n",
       "  </tbody>\n",
       "</table>\n",
       "</div>"
      ],
      "text/plain": [
       "            rank                    name  result citizen_of  \\\n",
       "wca_id                                                        \n",
       "2014ZUPA01   183             Staš Zupanc    7.72   Slovenia   \n",
       "2015CURM01   522         Nejc Ian Čurman    8.51   Slovenia   \n",
       "2016RUCI01   568          Marcel Ručigaj    8.61   Slovenia   \n",
       "2010GREG01   679            Jure Gregorc    8.79   Slovenia   \n",
       "2010OMUL02  1340            Matic Omulec    9.51   Slovenia   \n",
       "2018SUHA03  2191  Jan Vodopivec Suhadolc   10.13   Slovenia   \n",
       "2012DOBR01  2458           Blaž Dobravec   10.30   Slovenia   \n",
       "2015ANTL01  2458            Domen Antlej   10.30   Slovenia   \n",
       "2013GLIN01  3377             Rok Glinšek   10.81   Slovenia   \n",
       "2017FABJ01  4031              Lan Fabjan   11.09   Slovenia   \n",
       "2015BOLT01  5440             Matej Bolta   11.69   Slovenia   \n",
       "2017ROSK02  6637    Erik Červek Roškarič   12.11   Slovenia   \n",
       "2014KROP01  7261            Peter Kropec   12.31   Slovenia   \n",
       "\n",
       "                         competition  year gender  attended_competitions  \\\n",
       "wca_id                                                                     \n",
       "2014ZUPA01          Osijek Open 2017  2017   Male                     21   \n",
       "2015CURM01             WCA Euro 2018  2018   Male                     25   \n",
       "2016RUCI01         Prebold Open 2019  2019   Male                     32   \n",
       "2010GREG01       Slovenian Open 2017  2017   Male                     33   \n",
       "2010OMUL02          Munich Open 2018  2018   Male                     65   \n",
       "2018SUHA03       Ljubljana Open 2019  2019   Male                      5   \n",
       "2012DOBR01       Ljubljana Open 2016  2016   Male                     18   \n",
       "2015ANTL01       Ljubljana Open 2016  2016   Male                      4   \n",
       "2013GLIN01       Ljubljana Open 2019  2019   Male                     16   \n",
       "2017FABJ01         Ponikva Open 2019  2019   Male                      8   \n",
       "2015BOLT01  Slovenian Nationals 2019  2019   Male                     19   \n",
       "2017ROSK02  Slovenian Nationals 2019  2019   Male                     10   \n",
       "2014KROP01       Slovenian Open 2015  2015   Male                      3   \n",
       "\n",
       "            competition_size  attended_comps_rounded  \n",
       "wca_id                                                \n",
       "2014ZUPA01                33                      20  \n",
       "2015CURM01               587                      25  \n",
       "2016RUCI01                52                      30  \n",
       "2010GREG01                55                      30  \n",
       "2010OMUL02               144                      65  \n",
       "2018SUHA03                44                       5  \n",
       "2012DOBR01                30                      15  \n",
       "2015ANTL01                30                       0  \n",
       "2013GLIN01                44                      15  \n",
       "2017FABJ01                43                       5  \n",
       "2015BOLT01                52                      15  \n",
       "2017ROSK02                52                      10  \n",
       "2014KROP01                44                       0  "
      ]
     },
     "execution_count": 19,
     "metadata": {},
     "output_type": "execute_result"
    }
   ],
   "source": [
    "trojka[trojka.citizen_of == 'Slovenia'].head(13)"
   ]
  },
  {
   "cell_type": "code",
   "execution_count": 20,
   "metadata": {},
   "outputs": [
    {
     "data": {
      "text/html": [
       "<div>\n",
       "<style scoped>\n",
       "    .dataframe tbody tr th:only-of-type {\n",
       "        vertical-align: middle;\n",
       "    }\n",
       "\n",
       "    .dataframe tbody tr th {\n",
       "        vertical-align: top;\n",
       "    }\n",
       "\n",
       "    .dataframe thead th {\n",
       "        text-align: right;\n",
       "    }\n",
       "</style>\n",
       "<table border=\"1\" class=\"dataframe\">\n",
       "  <thead>\n",
       "    <tr style=\"text-align: right;\">\n",
       "      <th></th>\n",
       "      <th>rank</th>\n",
       "      <th>name</th>\n",
       "      <th>result</th>\n",
       "      <th>citizen_of</th>\n",
       "      <th>competition</th>\n",
       "      <th>year</th>\n",
       "      <th>result_points</th>\n",
       "      <th>result_time</th>\n",
       "      <th>gender</th>\n",
       "      <th>attended_competitions</th>\n",
       "      <th>333_average</th>\n",
       "      <th>333_world_rank</th>\n",
       "      <th>competition_size</th>\n",
       "      <th>attended_comps_rounded</th>\n",
       "    </tr>\n",
       "    <tr>\n",
       "      <th>wca_id</th>\n",
       "      <th></th>\n",
       "      <th></th>\n",
       "      <th></th>\n",
       "      <th></th>\n",
       "      <th></th>\n",
       "      <th></th>\n",
       "      <th></th>\n",
       "      <th></th>\n",
       "      <th></th>\n",
       "      <th></th>\n",
       "      <th></th>\n",
       "      <th></th>\n",
       "      <th></th>\n",
       "      <th></th>\n",
       "    </tr>\n",
       "  </thead>\n",
       "  <tbody>\n",
       "    <tr>\n",
       "      <th>2016RUCI01</th>\n",
       "      <td>242</td>\n",
       "      <td>Marcel Ručigaj</td>\n",
       "      <td>12/13</td>\n",
       "      <td>Slovenia</td>\n",
       "      <td>Italian Championship 2019</td>\n",
       "      <td>2019</td>\n",
       "      <td>11</td>\n",
       "      <td>46:35</td>\n",
       "      <td>Male</td>\n",
       "      <td>32</td>\n",
       "      <td>8.61</td>\n",
       "      <td>569.0</td>\n",
       "      <td>179</td>\n",
       "      <td>30</td>\n",
       "    </tr>\n",
       "    <tr>\n",
       "      <th>2012VAJD01</th>\n",
       "      <td>681</td>\n",
       "      <td>Jernej Vajda</td>\n",
       "      <td>7/8</td>\n",
       "      <td>Slovenia</td>\n",
       "      <td>Slovenian Open 2015</td>\n",
       "      <td>2015</td>\n",
       "      <td>6</td>\n",
       "      <td>57:27</td>\n",
       "      <td>Male</td>\n",
       "      <td>4</td>\n",
       "      <td>14.64</td>\n",
       "      <td>15816.0</td>\n",
       "      <td>44</td>\n",
       "      <td>0</td>\n",
       "    </tr>\n",
       "    <tr>\n",
       "      <th>2009KOBA03</th>\n",
       "      <td>797</td>\n",
       "      <td>Branko Kobal</td>\n",
       "      <td>6/7</td>\n",
       "      <td>Slovenia</td>\n",
       "      <td>Maribor Open 2014</td>\n",
       "      <td>2014</td>\n",
       "      <td>5</td>\n",
       "      <td>54:06</td>\n",
       "      <td>Male</td>\n",
       "      <td>33</td>\n",
       "      <td>17.69</td>\n",
       "      <td>28720.0</td>\n",
       "      <td>20</td>\n",
       "      <td>30</td>\n",
       "    </tr>\n",
       "    <tr>\n",
       "      <th>2015BOLT01</th>\n",
       "      <td>900</td>\n",
       "      <td>Matej Bolta</td>\n",
       "      <td>4/4</td>\n",
       "      <td>Slovenia</td>\n",
       "      <td>Italian Championship 2019</td>\n",
       "      <td>2019</td>\n",
       "      <td>4</td>\n",
       "      <td>35:05</td>\n",
       "      <td>Male</td>\n",
       "      <td>19</td>\n",
       "      <td>11.69</td>\n",
       "      <td>5444.0</td>\n",
       "      <td>179</td>\n",
       "      <td>15</td>\n",
       "    </tr>\n",
       "    <tr>\n",
       "      <th>2012ZAKE02</th>\n",
       "      <td>989</td>\n",
       "      <td>Dušan Zakelšek</td>\n",
       "      <td>3/3</td>\n",
       "      <td>Slovenia</td>\n",
       "      <td>Slovenian Open 2016</td>\n",
       "      <td>2016</td>\n",
       "      <td>3</td>\n",
       "      <td>11:43</td>\n",
       "      <td>Male</td>\n",
       "      <td>51</td>\n",
       "      <td>14.02</td>\n",
       "      <td>13322.0</td>\n",
       "      <td>29</td>\n",
       "      <td>50</td>\n",
       "    </tr>\n",
       "    <tr>\n",
       "      <th>2010OMUL02</th>\n",
       "      <td>1186</td>\n",
       "      <td>Matic Omulec</td>\n",
       "      <td>3/3</td>\n",
       "      <td>Slovenia</td>\n",
       "      <td>Prebold Open 2019</td>\n",
       "      <td>2019</td>\n",
       "      <td>3</td>\n",
       "      <td>26:31</td>\n",
       "      <td>Male</td>\n",
       "      <td>65</td>\n",
       "      <td>9.51</td>\n",
       "      <td>1340.0</td>\n",
       "      <td>52</td>\n",
       "      <td>65</td>\n",
       "    </tr>\n",
       "    <tr>\n",
       "      <th>2012ZAKE01</th>\n",
       "      <td>1882</td>\n",
       "      <td>Darko Zakelšek</td>\n",
       "      <td>2/3</td>\n",
       "      <td>Slovenia</td>\n",
       "      <td>Slovenian Open 2017</td>\n",
       "      <td>2017</td>\n",
       "      <td>1</td>\n",
       "      <td>22:03</td>\n",
       "      <td>Male</td>\n",
       "      <td>18</td>\n",
       "      <td>13.51</td>\n",
       "      <td>11406.0</td>\n",
       "      <td>55</td>\n",
       "      <td>15</td>\n",
       "    </tr>\n",
       "  </tbody>\n",
       "</table>\n",
       "</div>"
      ],
      "text/plain": [
       "            rank            name result citizen_of                competition  \\\n",
       "wca_id                                                                          \n",
       "2016RUCI01   242  Marcel Ručigaj  12/13   Slovenia  Italian Championship 2019   \n",
       "2012VAJD01   681    Jernej Vajda    7/8   Slovenia        Slovenian Open 2015   \n",
       "2009KOBA03   797    Branko Kobal    6/7   Slovenia          Maribor Open 2014   \n",
       "2015BOLT01   900     Matej Bolta    4/4   Slovenia  Italian Championship 2019   \n",
       "2012ZAKE02   989  Dušan Zakelšek    3/3   Slovenia        Slovenian Open 2016   \n",
       "2010OMUL02  1186    Matic Omulec    3/3   Slovenia          Prebold Open 2019   \n",
       "2012ZAKE01  1882  Darko Zakelšek    2/3   Slovenia        Slovenian Open 2017   \n",
       "\n",
       "            year  result_points result_time gender  attended_competitions  \\\n",
       "wca_id                                                                      \n",
       "2016RUCI01  2019             11       46:35   Male                     32   \n",
       "2012VAJD01  2015              6       57:27   Male                      4   \n",
       "2009KOBA03  2014              5       54:06   Male                     33   \n",
       "2015BOLT01  2019              4       35:05   Male                     19   \n",
       "2012ZAKE02  2016              3       11:43   Male                     51   \n",
       "2010OMUL02  2019              3       26:31   Male                     65   \n",
       "2012ZAKE01  2017              1       22:03   Male                     18   \n",
       "\n",
       "           333_average  333_world_rank  competition_size  \\\n",
       "wca_id                                                     \n",
       "2016RUCI01        8.61           569.0               179   \n",
       "2012VAJD01       14.64         15816.0                44   \n",
       "2009KOBA03       17.69         28720.0                20   \n",
       "2015BOLT01       11.69          5444.0               179   \n",
       "2012ZAKE02       14.02         13322.0                29   \n",
       "2010OMUL02        9.51          1340.0                52   \n",
       "2012ZAKE01       13.51         11406.0                55   \n",
       "\n",
       "            attended_comps_rounded  \n",
       "wca_id                              \n",
       "2016RUCI01                      30  \n",
       "2012VAJD01                       0  \n",
       "2009KOBA03                      30  \n",
       "2015BOLT01                      15  \n",
       "2012ZAKE02                      50  \n",
       "2010OMUL02                      65  \n",
       "2012ZAKE01                      15  "
      ]
     },
     "execution_count": 20,
     "metadata": {},
     "output_type": "execute_result"
    }
   ],
   "source": [
    "multi[multi.citizen_of == 'Slovenia']"
   ]
  },
  {
   "cell_type": "markdown",
   "metadata": {},
   "source": [
    "#### Povezava med disciplinama\n",
    "Poglejmo, ali obstaja povezava med dobrimi multi tekmovalci ter njihovimi razultati v klasični Kocki 3x3x3. Logično bi bilo sklepati, da povezava obstaja. Disciplini sicer nista neposredno povezani s prenosom znanja iz ene na drugo, vseeno pa povezavo napovedujemo.<br>\n",
    "Najprej poglejmo, koliko izmed najboljših 2000 multi tekmovalcev v disciplini 3x3x3 sploh ne tekmuje."
   ]
  },
  {
   "cell_type": "code",
   "execution_count": 21,
   "metadata": {},
   "outputs": [
    {
     "data": {
      "text/html": [
       "<div>\n",
       "<style scoped>\n",
       "    .dataframe tbody tr th:only-of-type {\n",
       "        vertical-align: middle;\n",
       "    }\n",
       "\n",
       "    .dataframe tbody tr th {\n",
       "        vertical-align: top;\n",
       "    }\n",
       "\n",
       "    .dataframe thead th {\n",
       "        text-align: right;\n",
       "    }\n",
       "</style>\n",
       "<table border=\"1\" class=\"dataframe\">\n",
       "  <thead>\n",
       "    <tr style=\"text-align: right;\">\n",
       "      <th></th>\n",
       "      <th>rank</th>\n",
       "      <th>name</th>\n",
       "      <th>result</th>\n",
       "      <th>citizen_of</th>\n",
       "      <th>competition</th>\n",
       "      <th>year</th>\n",
       "      <th>result_points</th>\n",
       "      <th>result_time</th>\n",
       "      <th>gender</th>\n",
       "      <th>attended_competitions</th>\n",
       "      <th>333_average</th>\n",
       "      <th>333_world_rank</th>\n",
       "      <th>competition_size</th>\n",
       "      <th>attended_comps_rounded</th>\n",
       "    </tr>\n",
       "    <tr>\n",
       "      <th>wca_id</th>\n",
       "      <th></th>\n",
       "      <th></th>\n",
       "      <th></th>\n",
       "      <th></th>\n",
       "      <th></th>\n",
       "      <th></th>\n",
       "      <th></th>\n",
       "      <th></th>\n",
       "      <th></th>\n",
       "      <th></th>\n",
       "      <th></th>\n",
       "      <th></th>\n",
       "      <th></th>\n",
       "      <th></th>\n",
       "    </tr>\n",
       "  </thead>\n",
       "  <tbody>\n",
       "    <tr>\n",
       "      <th>2018CAIH01</th>\n",
       "      <td>25</td>\n",
       "      <td>Hui Cai (蔡辉)</td>\n",
       "      <td>31/34</td>\n",
       "      <td>China</td>\n",
       "      <td>Shandong Open 2019</td>\n",
       "      <td>2019</td>\n",
       "      <td>28</td>\n",
       "      <td>57:10</td>\n",
       "      <td>Male</td>\n",
       "      <td>11</td>\n",
       "      <td>NaN</td>\n",
       "      <td>NaN</td>\n",
       "      <td>345</td>\n",
       "      <td>10</td>\n",
       "    </tr>\n",
       "    <tr>\n",
       "      <th>2015KHOK02</th>\n",
       "      <td>55</td>\n",
       "      <td>Zeshaan Khokhar</td>\n",
       "      <td>25/28</td>\n",
       "      <td>Australia</td>\n",
       "      <td>WCA World Championship 2019</td>\n",
       "      <td>2019</td>\n",
       "      <td>22</td>\n",
       "      <td>1:00:00</td>\n",
       "      <td>Male</td>\n",
       "      <td>20</td>\n",
       "      <td>NaN</td>\n",
       "      <td>NaN</td>\n",
       "      <td>833</td>\n",
       "      <td>20</td>\n",
       "    </tr>\n",
       "    <tr>\n",
       "      <th>2020BARA02</th>\n",
       "      <td>61</td>\n",
       "      <td>Radomił Baran</td>\n",
       "      <td>21/21</td>\n",
       "      <td>Poland</td>\n",
       "      <td>BrizZon Poznań Side Open 2020</td>\n",
       "      <td>2020</td>\n",
       "      <td>21</td>\n",
       "      <td>56:32</td>\n",
       "      <td>Male</td>\n",
       "      <td>1</td>\n",
       "      <td>NaN</td>\n",
       "      <td>NaN</td>\n",
       "      <td>25</td>\n",
       "      <td>0</td>\n",
       "    </tr>\n",
       "    <tr>\n",
       "      <th>2009JIAN03</th>\n",
       "      <td>127</td>\n",
       "      <td>Tong Jiang (蒋彤)</td>\n",
       "      <td>15/15</td>\n",
       "      <td>China</td>\n",
       "      <td>Beijing Summer Open 2009</td>\n",
       "      <td>2009</td>\n",
       "      <td>15</td>\n",
       "      <td>52:01</td>\n",
       "      <td>Male</td>\n",
       "      <td>2</td>\n",
       "      <td>NaN</td>\n",
       "      <td>NaN</td>\n",
       "      <td>162</td>\n",
       "      <td>0</td>\n",
       "    </tr>\n",
       "    <tr>\n",
       "      <th>2019FUJI07</th>\n",
       "      <td>202</td>\n",
       "      <td>Masato Fujiwara (藤原正人)</td>\n",
       "      <td>14/15</td>\n",
       "      <td>Japan</td>\n",
       "      <td>Yono Summer 2019</td>\n",
       "      <td>2019</td>\n",
       "      <td>13</td>\n",
       "      <td>58:29</td>\n",
       "      <td>Male</td>\n",
       "      <td>5</td>\n",
       "      <td>NaN</td>\n",
       "      <td>NaN</td>\n",
       "      <td>77</td>\n",
       "      <td>5</td>\n",
       "    </tr>\n",
       "    <tr>\n",
       "      <th>2017DOVB01</th>\n",
       "      <td>328</td>\n",
       "      <td>Marharyta Dovbii (Маргарита Довбій)</td>\n",
       "      <td>11/12</td>\n",
       "      <td>Ukraine</td>\n",
       "      <td>Kiev Super Blind 2020</td>\n",
       "      <td>2020</td>\n",
       "      <td>10</td>\n",
       "      <td>1:00:00</td>\n",
       "      <td>Female</td>\n",
       "      <td>8</td>\n",
       "      <td>NaN</td>\n",
       "      <td>NaN</td>\n",
       "      <td>38</td>\n",
       "      <td>5</td>\n",
       "    </tr>\n",
       "    <tr>\n",
       "      <th>2015TORR17</th>\n",
       "      <td>403</td>\n",
       "      <td>Sergio Augusto Guillén Torres</td>\n",
       "      <td>9/10</td>\n",
       "      <td>Peru</td>\n",
       "      <td>Campeonato Nacional Perubik 2017</td>\n",
       "      <td>2017</td>\n",
       "      <td>8</td>\n",
       "      <td>46:33</td>\n",
       "      <td>Male</td>\n",
       "      <td>10</td>\n",
       "      <td>NaN</td>\n",
       "      <td>NaN</td>\n",
       "      <td>190</td>\n",
       "      <td>10</td>\n",
       "    </tr>\n",
       "    <tr>\n",
       "      <th>2012OTAN01</th>\n",
       "      <td>425</td>\n",
       "      <td>Diego Millán Otón</td>\n",
       "      <td>8/8</td>\n",
       "      <td>Spain</td>\n",
       "      <td>Rebild Open 2014</td>\n",
       "      <td>2014</td>\n",
       "      <td>8</td>\n",
       "      <td>50:44</td>\n",
       "      <td>Male</td>\n",
       "      <td>20</td>\n",
       "      <td>NaN</td>\n",
       "      <td>NaN</td>\n",
       "      <td>22</td>\n",
       "      <td>20</td>\n",
       "    </tr>\n",
       "    <tr>\n",
       "      <th>2015BAOW01</th>\n",
       "      <td>456</td>\n",
       "      <td>Weina Bao (鲍伟娜)</td>\n",
       "      <td>10/12</td>\n",
       "      <td>China</td>\n",
       "      <td>Beijing Open 2018</td>\n",
       "      <td>2018</td>\n",
       "      <td>8</td>\n",
       "      <td>56:31</td>\n",
       "      <td>Female</td>\n",
       "      <td>10</td>\n",
       "      <td>NaN</td>\n",
       "      <td>NaN</td>\n",
       "      <td>438</td>\n",
       "      <td>10</td>\n",
       "    </tr>\n",
       "    <tr>\n",
       "      <th>2017DAIF01</th>\n",
       "      <td>507</td>\n",
       "      <td>Fengqi Dai (代凤奇)</td>\n",
       "      <td>7/7</td>\n",
       "      <td>China</td>\n",
       "      <td>Wuhan NxN Open 2017</td>\n",
       "      <td>2017</td>\n",
       "      <td>7</td>\n",
       "      <td>49:36</td>\n",
       "      <td>Male</td>\n",
       "      <td>5</td>\n",
       "      <td>NaN</td>\n",
       "      <td>NaN</td>\n",
       "      <td>119</td>\n",
       "      <td>5</td>\n",
       "    </tr>\n",
       "    <tr>\n",
       "      <th>2016KRUE03</th>\n",
       "      <td>533</td>\n",
       "      <td>Donna Krueger</td>\n",
       "      <td>7/7</td>\n",
       "      <td>United States</td>\n",
       "      <td>Peach State 2019</td>\n",
       "      <td>2019</td>\n",
       "      <td>7</td>\n",
       "      <td>55:04</td>\n",
       "      <td>Female</td>\n",
       "      <td>23</td>\n",
       "      <td>NaN</td>\n",
       "      <td>NaN</td>\n",
       "      <td>100</td>\n",
       "      <td>20</td>\n",
       "    </tr>\n",
       "    <tr>\n",
       "      <th>2011SUOJ01</th>\n",
       "      <td>538</td>\n",
       "      <td>Jinghui Suo (索晶辉)</td>\n",
       "      <td>8/9</td>\n",
       "      <td>China</td>\n",
       "      <td>Asian Championship 2016</td>\n",
       "      <td>2016</td>\n",
       "      <td>7</td>\n",
       "      <td>56:17</td>\n",
       "      <td>Male</td>\n",
       "      <td>5</td>\n",
       "      <td>NaN</td>\n",
       "      <td>NaN</td>\n",
       "      <td>955</td>\n",
       "      <td>5</td>\n",
       "    </tr>\n",
       "    <tr>\n",
       "      <th>2017SUGO01</th>\n",
       "      <td>610</td>\n",
       "      <td>Kusnanto Sugondo</td>\n",
       "      <td>6/6</td>\n",
       "      <td>Indonesia</td>\n",
       "      <td>Pecel Cube Weekend 2018</td>\n",
       "      <td>2018</td>\n",
       "      <td>6</td>\n",
       "      <td>45:29</td>\n",
       "      <td>Male</td>\n",
       "      <td>21</td>\n",
       "      <td>NaN</td>\n",
       "      <td>NaN</td>\n",
       "      <td>21</td>\n",
       "      <td>20</td>\n",
       "    </tr>\n",
       "  </tbody>\n",
       "</table>\n",
       "</div>"
      ],
      "text/plain": [
       "            rank                                 name result     citizen_of  \\\n",
       "wca_id                                                                        \n",
       "2018CAIH01    25                         Hui Cai (蔡辉)  31/34          China   \n",
       "2015KHOK02    55                      Zeshaan Khokhar  25/28      Australia   \n",
       "2020BARA02    61                        Radomił Baran  21/21         Poland   \n",
       "2009JIAN03   127                      Tong Jiang (蒋彤)  15/15          China   \n",
       "2019FUJI07   202               Masato Fujiwara (藤原正人)  14/15          Japan   \n",
       "2017DOVB01   328  Marharyta Dovbii (Маргарита Довбій)  11/12        Ukraine   \n",
       "2015TORR17   403        Sergio Augusto Guillén Torres   9/10           Peru   \n",
       "2012OTAN01   425                    Diego Millán Otón    8/8          Spain   \n",
       "2015BAOW01   456                      Weina Bao (鲍伟娜)  10/12          China   \n",
       "2017DAIF01   507                     Fengqi Dai (代凤奇)    7/7          China   \n",
       "2016KRUE03   533                        Donna Krueger    7/7  United States   \n",
       "2011SUOJ01   538                    Jinghui Suo (索晶辉)    8/9          China   \n",
       "2017SUGO01   610                     Kusnanto Sugondo    6/6      Indonesia   \n",
       "\n",
       "                                 competition  year  result_points result_time  \\\n",
       "wca_id                                                                          \n",
       "2018CAIH01                Shandong Open 2019  2019             28       57:10   \n",
       "2015KHOK02       WCA World Championship 2019  2019             22     1:00:00   \n",
       "2020BARA02     BrizZon Poznań Side Open 2020  2020             21       56:32   \n",
       "2009JIAN03          Beijing Summer Open 2009  2009             15       52:01   \n",
       "2019FUJI07                  Yono Summer 2019  2019             13       58:29   \n",
       "2017DOVB01             Kiev Super Blind 2020  2020             10     1:00:00   \n",
       "2015TORR17  Campeonato Nacional Perubik 2017  2017              8       46:33   \n",
       "2012OTAN01                  Rebild Open 2014  2014              8       50:44   \n",
       "2015BAOW01                 Beijing Open 2018  2018              8       56:31   \n",
       "2017DAIF01               Wuhan NxN Open 2017  2017              7       49:36   \n",
       "2016KRUE03                  Peach State 2019  2019              7       55:04   \n",
       "2011SUOJ01           Asian Championship 2016  2016              7       56:17   \n",
       "2017SUGO01           Pecel Cube Weekend 2018  2018              6       45:29   \n",
       "\n",
       "            gender  attended_competitions 333_average  333_world_rank  \\\n",
       "wca_id                                                                  \n",
       "2018CAIH01    Male                     11         NaN             NaN   \n",
       "2015KHOK02    Male                     20         NaN             NaN   \n",
       "2020BARA02    Male                      1         NaN             NaN   \n",
       "2009JIAN03    Male                      2         NaN             NaN   \n",
       "2019FUJI07    Male                      5         NaN             NaN   \n",
       "2017DOVB01  Female                      8         NaN             NaN   \n",
       "2015TORR17    Male                     10         NaN             NaN   \n",
       "2012OTAN01    Male                     20         NaN             NaN   \n",
       "2015BAOW01  Female                     10         NaN             NaN   \n",
       "2017DAIF01    Male                      5         NaN             NaN   \n",
       "2016KRUE03  Female                     23         NaN             NaN   \n",
       "2011SUOJ01    Male                      5         NaN             NaN   \n",
       "2017SUGO01    Male                     21         NaN             NaN   \n",
       "\n",
       "            competition_size  attended_comps_rounded  \n",
       "wca_id                                                \n",
       "2018CAIH01               345                      10  \n",
       "2015KHOK02               833                      20  \n",
       "2020BARA02                25                       0  \n",
       "2009JIAN03               162                       0  \n",
       "2019FUJI07                77                       5  \n",
       "2017DOVB01                38                       5  \n",
       "2015TORR17               190                      10  \n",
       "2012OTAN01                22                      20  \n",
       "2015BAOW01               438                      10  \n",
       "2017DAIF01               119                       5  \n",
       "2016KRUE03               100                      20  \n",
       "2011SUOJ01               955                       5  \n",
       "2017SUGO01                21                      20  "
      ]
     },
     "execution_count": 21,
     "metadata": {},
     "output_type": "execute_result"
    }
   ],
   "source": [
    "multi[multi.isnull().any(1)].head(13)"
   ]
  },
  {
   "cell_type": "code",
   "execution_count": 22,
   "metadata": {},
   "outputs": [
    {
     "data": {
      "text/plain": [
       "19"
      ]
     },
     "execution_count": 22,
     "metadata": {},
     "output_type": "execute_result"
    }
   ],
   "source": [
    "multi['333_average'].size - multi['333_average'].dropna().size"
   ]
  },
  {
   "cell_type": "markdown",
   "metadata": {},
   "source": [
    "Takih tekmovalcev je 19 (izmed 2000), v zgornji tabeli pa vidimo, da so to tudi zelo dobri tekmovalci."
   ]
  },
  {
   "cell_type": "code",
   "execution_count": 25,
   "metadata": {},
   "outputs": [
    {
     "data": {
      "text/plain": [
       "<matplotlib.axes._subplots.AxesSubplot at 0xf444fb8>"
      ]
     },
     "execution_count": 25,
     "metadata": {},
     "output_type": "execute_result"
    },
    {
     "data": {
      "image/png": "[encoded data removed]",
      "text/plain": [
       "<Figure size 432x288 with 1 Axes>"
      ]
     },
     "metadata": {
      "needs_background": "light"
     },
     "output_type": "display_data"
    }
   ],
   "source": [
    "multi.dropna().plot.scatter(x='333_average', y='result_points')"
   ]
  },
  {
   "cell_type": "markdown",
   "metadata": {},
   "source": [
    "Graf pokaže očitno povezavo med dobrimi razultati v obeh disciplinah. Hipotezo smo potrdili."
   ]
  },
  {
   "source": [
    "Po zaključeni analizi vidimo, da smo na nekatera vprašanja odgovorili pritrdilno, na druga pa ne. Mislim, da je cilj naloge uspešno dosežen."
   ],
   "cell_type": "markdown",
   "metadata": {}
  }
 ],
 "metadata": {
  "kernelspec": {
   "display_name": "Python 3",
   "language": "python",
   "name": "python3"
  },
  "language_info": {
   "codemirror_mode": {
    "name": "ipython",
    "version": 3
   },
   "file_extension": ".py",
   "mimetype": "text/x-python",
   "name": "python",
   "nbconvert_exporter": "python",
   "pygments_lexer": "ipython3",
   "version": "3.8.2"
  }
 },
 "nbformat": 4,
 "nbformat_minor": 4
}